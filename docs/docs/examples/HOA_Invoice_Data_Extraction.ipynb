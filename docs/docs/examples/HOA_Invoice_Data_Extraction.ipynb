{
 "cells": [
  {
   "cell_type": "markdown",
   "metadata": {
    "id": "r9NVuXFG3qGw"
   },
   "source": [
    "### Install the Indexify Extractor SDK, Langchain Retriever and the Indexify Client"
   ]
  },
  {
   "cell_type": "code",
   "execution_count": 2,
   "metadata": {
    "id": "udB1A9ee1RFv"
   },
   "outputs": [],
   "source": [
    "%%capture\n",
    "!pip install indexify-extractor-sdk indexify"
   ]
  },
  {
   "cell_type": "markdown",
   "metadata": {},
   "source": [
    "We have several PDF and Invoice Extractor. The one that worked really well to get various fields from my HOA receipt was the LayoutLMDocumentQA. It can't extract all the values in one shot, but can answer to single questions.\n",
    "\n",
    "First, get a taste of playing with the extractor locally.\n",
    "\n",
    "Download the extractor -\n",
    "```bash\n",
    "indexify-extractor download hub://pdf/layoutlm_document_qa\n",
    "```"
   ]
  },
  {
   "cell_type": "code",
   "execution_count": 8,
   "metadata": {
    "scrolled": true
   },
   "outputs": [],
   "source": [
    "from indexify_extractor_sdk import load_extractor, Content\n",
    "extractor, config_cls = load_extractor(\"layoutlm_document_qa.document_qa:LayoutLMDocumentQA\")\n",
    "content = Content.from_file(\"/Users/diptanuc/Downloads/Statement_HOA.pdf\")\n"
   ]
  },
  {
   "cell_type": "code",
   "execution_count": 9,
   "metadata": {},
   "outputs": [
    {
     "data": {
      "text/plain": [
       "[Feature(feature_type='metadata', name='metadata', value={'query': \"What's the due date?\", 'answer': '5/1/2024', 'page': 0, 'score': 0.9999791383743286}, comment=None)]"
      ]
     },
     "execution_count": 9,
     "metadata": {},
     "output_type": "execute_result"
    }
   ],
   "source": [
    "config = config_cls(query=\"What's the due date?\")\n",
    "result = extractor.extract(content, config)\n",
    "result"
   ]
  },
  {
   "cell_type": "markdown",
   "metadata": {
    "id": "nGrirc_G3zSI"
   },
   "source": [
    "### Start the Indexify Server\n",
    "\n",
    "To make this extractor continously extract - \n",
    "1. Download the Indexify Server\n",
    "2. Start it in development mode on your laptop\n",
    "3. Create extraction policies with questions that extracts the fields from the PDF\n",
    "4. Finally, you can get all the extracted value for a document by making an API call\n",
    "\n",
    "##### Download the Server\n",
    "```bash\n",
    "curl https://tensorlake.ai | sh\n",
    "```"
   ]
  },
  {
   "cell_type": "code",
   "execution_count": null,
   "metadata": {
    "id": "prTC7y7i3UCu"
   },
   "outputs": [],
   "source": [
    "!./indexify server -d"
   ]
  },
  {
   "cell_type": "markdown",
   "metadata": {},
   "source": [
    "### Create the Extraction Policies\n"
   ]
  },
  {
   "cell_type": "code",
   "execution_count": 2,
   "metadata": {
    "id": "HZNysNl-631k"
   },
   "outputs": [],
   "source": [
    "from indexify import IndexifyClient\n",
    "client = IndexifyClient()"
   ]
  },
  {
   "cell_type": "code",
   "execution_count": 3,
   "metadata": {},
   "outputs": [],
   "source": [
    "client.add_extraction_policy(extractor='tensorlake/layoutlm-document-qa-extractor', name=\"hoa-fees-due-date\", input_params={\"query\": \"Whats the due date?\"})\n",
    "client.add_extraction_policy(extractor='tensorlake/layoutlm-document-qa-extractor', name=\"hoa-fees-outstanding\", input_params={\"query\": \"Whats the outstanding amount?\"})"
   ]
  },
  {
   "cell_type": "markdown",
   "metadata": {},
   "source": [
    "### Upload Files"
   ]
  },
  {
   "cell_type": "code",
   "execution_count": 4,
   "metadata": {},
   "outputs": [],
   "source": [
    "content_id = client.upload_file(\"/Users/diptanuc/Downloads/Statement_HOA.pdf\")"
   ]
  },
  {
   "cell_type": "code",
   "execution_count": 6,
   "metadata": {},
   "outputs": [
    {
     "data": {
      "text/plain": [
       "[{'id': '3Ie8VXVxfNTPAL5L',\n",
       "  'content_id': 'efcf0931508836d3',\n",
       "  'metadata': {'answer': '5/1/2024',\n",
       "   'page': 0,\n",
       "   'query': 'Whats the due date?',\n",
       "   'score': 0.9999799728393556},\n",
       "  'extractor_name': 'tensorlake/layoutlm-document-qa-extractor'},\n",
       " {'id': 'VmCTqMFR-m7IG0nn',\n",
       "  'content_id': 'efcf0931508836d3',\n",
       "  'metadata': {'answer': '$603.03',\n",
       "   'page': 1,\n",
       "   'query': 'Whats the outstanding amount?',\n",
       "   'score': 0.9992976188659668},\n",
       "  'extractor_name': 'tensorlake/layoutlm-document-qa-extractor'}]"
      ]
     },
     "execution_count": 6,
     "metadata": {},
     "output_type": "execute_result"
    }
   ],
   "source": [
    "client.get_structured_data(content_id)"
   ]
  },
  {
   "cell_type": "code",
   "execution_count": 36,
   "metadata": {},
   "outputs": [
    {
     "data": {
      "text/plain": [
       "SqlQueryResult(result=[{'answer': '$603.03', 'content_id': 'd8ec685dd9cc3505', 'page': 1, 'query': 'Whats the outstanding amount?', 'score': 0.9992976188659668}, {'answer': '5/1/2024', 'content_id': 'd8ec685dd9cc3505', 'page': 0, 'query': 'Whats the due date?', 'score': 0.9999799728393556}])"
      ]
     },
     "execution_count": 36,
     "metadata": {},
     "output_type": "execute_result"
    }
   ],
   "source": [
    "client.sql_query(\"select * from ingestion;\")"
   ]
  }
 ],
 "metadata": {
  "colab": {
   "provenance": []
  },
  "kernelspec": {
   "display_name": "Python 3 (ipykernel)",
   "language": "python",
   "name": "python3"
  },
  "language_info": {
   "codemirror_mode": {
    "name": "ipython",
    "version": 3
   },
   "file_extension": ".py",
   "mimetype": "text/x-python",
   "name": "python",
   "nbconvert_exporter": "python",
   "pygments_lexer": "ipython3",
   "version": "3.12.2"
  }
 },
 "nbformat": 4,
 "nbformat_minor": 4
}
